{
 "cells": [
  {
   "cell_type": "markdown",
   "id": "ebb2cf09",
   "metadata": {},
   "source": [
    "## Project Description:\n",
    "\n",
    "#### General Instruction\n",
    "- There will be two datasets for this project—one for classification models and the second for regression models. \n",
    "- Read data into Jupyter notebook use pandas to import data into a data frame. \n",
    "- Your submission should be commented on appropriately. Use the markdown cells in the iPython notebook to prepare your final report. \n",
    "- Fifty percent of the grade is based on your Python code submission. The other 50 percent of your grade is based on the evaluation score of the prediction. \n",
    "- The exam should be syntax error-free. Run your code before the final submission. \n",
    "\n",
    "#### Required Tasks\n",
    "- Explore each data set using different descriptive and plotting methods. \n",
    "- Explore each dataset, check for missing data and apply proper data imputation methods. \n",
    "- Apply the same preprocessing techniques on the classification_test and regression_test. Note that these two datasets don't have target columns. \n",
    "- Scale each dataset. Explain your choice of data scaling method. \n",
    "- Apply clustering methods discussed in class to study the structure of each dataset. Discuss how the outcome of clustering will help you better understand the structure of data. Provide result interpretation for each clustering model. \n",
    "- Regression dataset: Apply all the regression models you have learned in this class. Discuss the results and outcomes. Models with hyperparameters explain how you find the best value of the hyperparameters. \n",
    "- Find the best regression model among the list of models trained on the regression_train dataset. Use this model to predict the target values of the regression_test. \n",
    "- Classification dataset: Apply all the classification models you have learned in this course. Discuss the results and outcomes. Discuss the choice of evaluation method and how it helps you find the best values of the model hyperparameters. \n",
    "- Find the best classification model among the list of models trained on the classification_train dataset. Use this model to predict the target values of the classification_test. \n",
    "\n",
    "\n",
    "#### Devliverable\n",
    "Submit ONLY the iPython notebook or the .py file of your work. Use the following frame for your submission. Please don't remove the headers in the following structure. \n",
    "\n",
    "Make sure to list the name and student id of all the group members in your iPython notebook file. \n",
    "\n",
    "#### Rubric\n",
    "| Descriptio | Fair | Good | excelent |\n",
    "|:-----------|:------|:------|:----------|\n",
    "|Preprocessing|Demonstrate limited understanding of preprocessing steps | Demonstrate a moderate ability to find a way to apply the preprocessing step to prepare the dataset for Machine learning models | Demonstrate the ability to choose the appropriate preprocessing model to prepare the dataset |\n",
    "|learning model | Demonstrate limited understanding of methods used to train learning models | Demonstrate the ability to understand techniques used to train learning models with some effectiveness. This includes optimization algorithms, initialization, regularization, and hyperparameter search methods | Demonstrate ability to understand and apply various algorithms as well as initialization, regularization, and hyperparameter search methods |\n",
    "|Final prediction |Demonstrate limited understanding of strategies to structure and end to end machine learning project | Demonstrate ability to understand classic ML strategies such as error analysis, data split, data collection and evaluation metric selection with some effectiveness | Demonstrates ability to structure the project and apply methods such as error analysis, data split, data collection, design a labeling process and select proper evaluation metrics to improve performance."
   ]
  },
  {
   "cell_type": "markdown",
   "id": "5dac9a6a",
   "metadata": {},
   "source": [
    "# Regression\n",
    "\n",
    "### Data preparation"
   ]
  },
  {
   "cell_type": "code",
   "execution_count": 7,
   "id": "632f0fe4",
   "metadata": {},
   "outputs": [
    {
     "data": {
      "text/plain": [
       "Hour                        177\n",
       "Temperature(C)              209\n",
       "Humidity(%)                 210\n",
       "Wind speed (m/s)            193\n",
       "Visibility (10m)            190\n",
       "Dew point temperature(C)    197\n",
       "Solar Radiation (MJ/m2)     201\n",
       "Rainfall(mm)                211\n",
       "Snowfall (cm)               190\n",
       "Seasons                     209\n",
       "Holiday                     167\n",
       "Functioning Day             196\n",
       "Rented Bike Count             0\n",
       "dtype: int64"
      ]
     },
     "execution_count": 7,
     "metadata": {},
     "output_type": "execute_result"
    }
   ],
   "source": [
    "import pandas as pd, numpy as np\n",
    "\n",
    "# Create a dataframe from csv file\n",
    "\n",
    "df = pd.read_csv('train_regression.csv')\n",
    "# df.head(5)\n",
    "\n",
    "df.isna().sum()"
   ]
  },
  {
   "cell_type": "code",
   "execution_count": 40,
   "id": "dd036af6",
   "metadata": {},
   "outputs": [
    {
     "data": {
      "text/plain": [
       "<AxesSubplot:ylabel='Density'>"
      ]
     },
     "execution_count": 40,
     "metadata": {},
     "output_type": "execute_result"
    },
    {
     "data": {
      "image/png": "[encoded data removed]",
      "text/plain": [
       "<Figure size 432x288 with 1 Axes>"
      ]
     },
     "metadata": {
      "needs_background": "light"
     },
     "output_type": "display_data"
    }
   ],
   "source": [
    "df['Hour'].loc[df['Hour']>22].plot(kind='kde')"
   ]
  },
  {
   "cell_type": "code",
   "execution_count": 12,
   "id": "fb15310b",
   "metadata": {},
   "outputs": [
    {
     "data": {
      "text/plain": [
       "<AxesSubplot:ylabel='Density'>"
      ]
     },
     "execution_count": 12,
     "metadata": {},
     "output_type": "execute_result"
    },
    {
     "data": {
      "image/png": "[encoded data removed]",
      "text/plain": [
       "<Figure size 432x288 with 1 Axes>"
      ]
     },
     "metadata": {
      "needs_background": "light"
     },
     "output_type": "display_data"
    }
   ],
   "source": [
    "df['Hour'].plot(kind='kde')"
   ]
  },
  {
   "cell_type": "markdown",
   "id": "e8a261a9",
   "metadata": {},
   "source": [
    "### Regression model training"
   ]
  },
  {
   "cell_type": "code",
   "execution_count": null,
   "id": "a1073d5f",
   "metadata": {},
   "outputs": [],
   "source": []
  },
  {
   "cell_type": "markdown",
   "id": "d12a2d04",
   "metadata": {},
   "source": [
    "### Regression prediction"
   ]
  },
  {
   "cell_type": "code",
   "execution_count": null,
   "id": "3699ccc9",
   "metadata": {},
   "outputs": [],
   "source": []
  },
  {
   "cell_type": "markdown",
   "id": "98f107df",
   "metadata": {},
   "source": [
    "# Classification\n",
    "\n",
    "### Data preparation"
   ]
  },
  {
   "cell_type": "code",
   "execution_count": 2,
   "id": "bf6c95c5",
   "metadata": {},
   "outputs": [
    {
     "data": {
      "text/plain": [
       "Age          0\n",
       "Sex          0\n",
       "ALB          1\n",
       "ALP         17\n",
       "ALT          1\n",
       "AST          0\n",
       "BIL          0\n",
       "CHE          0\n",
       "CHOL         9\n",
       "CREA         0\n",
       "GGT          0\n",
       "PROT         1\n",
       "Category     0\n",
       "dtype: int64"
      ]
     },
     "execution_count": 2,
     "metadata": {},
     "output_type": "execute_result"
    }
   ],
   "source": [
    "import pandas as pd, numpy as np\n",
    "\n",
    "# Create a dataframe from csv file\n",
    "\n",
    "df = pd.read_csv('train_classification.csv')\n",
    "df.head(5)\n",
    "\n",
    "df.isna().sum()"
   ]
  },
  {
   "cell_type": "markdown",
   "id": "7e1612bb",
   "metadata": {},
   "source": [
    "### Classification model training"
   ]
  },
  {
   "cell_type": "code",
   "execution_count": null,
   "id": "90801c3c",
   "metadata": {},
   "outputs": [],
   "source": []
  },
  {
   "cell_type": "markdown",
   "id": "02a20890",
   "metadata": {},
   "source": [
    "### Classification prediction"
   ]
  },
  {
   "cell_type": "code",
   "execution_count": null,
   "id": "1fdbf064",
   "metadata": {},
   "outputs": [],
   "source": []
  }
 ],
 "metadata": {
  "kernelspec": {
   "display_name": "Python 3 (ipykernel)",
   "language": "python",
   "name": "python3"
  },
  "language_info": {
   "codemirror_mode": {
    "name": "ipython",
    "version": 3
   },
   "file_extension": ".py",
   "mimetype": "text/x-python",
   "name": "python",
   "nbconvert_exporter": "python",
   "pygments_lexer": "ipython3",
   "version": "3.10.2"
  }
 },
 "nbformat": 4,
 "nbformat_minor": 5
}
